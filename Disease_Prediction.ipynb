{
 "cells": [
  {
   "cell_type": "markdown",
   "metadata": {},
   "source": [
    "Importing all the necessaty libraries"
   ]
  },
  {
   "cell_type": "markdown",
   "metadata": {},
   "source": [
    "# Heart Disease Prediction System Using Machine Learning\n",
    "\n",
    "##### In this project we will try to predict weather a person have heart disease or not using the clinical data and machine learning. We Will Try To Achieve 85% Accuracy Initially. For This Project We Will Use The Heart Data set from Kaggle.\n",
    "\n",
    "The Dataset contains the following data \n",
    "\n",
    "1. age\n",
    "2. sex (1 = male; 0 = female) \n",
    "3. chest pain type (4 values)\n",
    "    0. Typical angina: chest pain related to decreased blood supply to the heart.\n",
    "    1. Atypical angina: chest pain not related to the heart.\n",
    "    2. Non-anginal pain: typically esophageal spasms (non-heart related).\n",
    "    3. Asymptomatic: chest pain not showing signs of disease.\n",
    "4. resting blood pressure\n",
    "5. serum cholestoral in mg/dl\n",
    "6. fasting blood sugar > 120 mg/dl\n",
    "7. resting electrocardiographic results (values 0,1,2)\n",
    "8. maximum heart rate achieved\n",
    "9. exercise induced angina\n",
    "10. oldpeak = ST depression induced by exercise relative to rest\n",
    "11. the slope of the peak exercise ST segment\n",
    "12. number of major vessels (0-3) colored by flourosopy\n",
    "13. thal: 0 = normal; 1 = fixed defect; 2 = reversable defect\n",
    "14. target: have disease or not (1 = yes, 0 = no)(= Predicted Value)"
   ]
  },
  {
   "cell_type": "code",
   "execution_count": 397,
   "metadata": {},
   "outputs": [],
   "source": [
    "# importing libraries for Exploratory Data Analysis(EDA)\n",
    "import pandas as pd\n",
    "import numpy as np\n",
    "import matplotlib.pyplot as plt\n",
    "import seaborn as sns\n",
    "import sklearn as sk\n",
    "\n",
    "#importing libraries for machine learning\n",
    "from sklearn.model_selection import train_test_split, RandomizedSearchCV, GridSearchCV\n",
    "from sklearn.linear_model import LogisticRegression\n",
    "from sklearn.neighbors import KNeighborsClassifier\n",
    "from sklearn.ensemble import RandomForestClassifier\n",
    "from sklearn.utils import shuffle\n",
    "from sklearn.metrics import confusion_matrix, classification_report, precision_score, recall_score, f1_score\n",
    "from sklearn.metrics import RocCurveDisplay\n"
   ]
  },
  {
   "cell_type": "code",
   "execution_count": null,
   "metadata": {},
   "outputs": [],
   "source": [
    "#loading the data\n",
    "dataset = pd.read_csv(\"heart.csv\")\n",
    "dataset.head(3)"
   ]
  },
  {
   "cell_type": "code",
   "execution_count": null,
   "metadata": {},
   "outputs": [],
   "source": [
    "#checking the shape of dataset\n",
    "dataset.shape\n",
    "#the dataset has 1025 cols and 14 rows"
   ]
  },
  {
   "cell_type": "markdown",
   "metadata": {},
   "source": [
    "Checking Null Values In The Dataset\n",
    "##### We will use the `isnull()` function to identify the null values in the dataset."
   ]
  },
  {
   "cell_type": "code",
   "execution_count": null,
   "metadata": {},
   "outputs": [],
   "source": [
    "#There's No Null Values in the Dataset\n",
    "dataset.isnull().sum().sum()"
   ]
  },
  {
   "cell_type": "code",
   "execution_count": null,
   "metadata": {},
   "outputs": [],
   "source": [
    "# Now We Will Check For Outliers using the describe function\n",
    "# The Describe function will also provide us with mean, std and IQR values\n",
    "dataset.describe()"
   ]
  },
  {
   "cell_type": "code",
   "execution_count": null,
   "metadata": {},
   "outputs": [],
   "source": [
    "#The Target Value Contains 2 values 0 and 1\n",
    "# If the Value is 1 it means the person have disease\n",
    "# If the Value is 0 it means the person don't have disease\n",
    "dataset.target.unique()"
   ]
  },
  {
   "cell_type": "code",
   "execution_count": null,
   "metadata": {},
   "outputs": [],
   "source": [
    "# dataset.target.value_counts() provide us with the total count of 1's and 0's in the dataset using that we found the %age of\n",
    "# people Suferring from Heart Disease and %age of People who are not\n",
    "\n",
    "# We Found That 51% people are sufferring and 48% are not\n",
    "\n",
    "temp_target = dataset.target.value_counts()\n",
    "people_Without_Heart_Disease = temp_target[0]/1025 *100\n",
    "people_With_Heart_Disease = temp_target[1]/1025 *100\n",
    "\n",
    "print(\"People With Heart Disease is : \", people_With_Heart_Disease)\n",
    "print(\"People Without Heart Disease is : \", people_Without_Heart_Disease)"
   ]
  },
  {
   "cell_type": "code",
   "execution_count": null,
   "metadata": {},
   "outputs": [],
   "source": [
    "# The Bar Graph Shows the above data in pictorial format\n",
    "temp_target.plot(kind=\"bar\", color={\"salmon\", \"lightblue\"}).set_xticklabels([\"With Heart Disease\",\"Without Heart Disease\"], rotation=0)"
   ]
  },
  {
   "cell_type": "code",
   "execution_count": null,
   "metadata": {},
   "outputs": [],
   "source": [
    "# Here We get how many males and females are there in the dataset\n",
    "# There are 713 males and 312 females\n",
    "dataset.sex.value_counts()"
   ]
  },
  {
   "cell_type": "code",
   "execution_count": null,
   "metadata": {},
   "outputs": [],
   "source": [
    "#From The Figure We also find that Heart Disease is more common in males than female\n",
    "pd.crosstab(dataset.target, dataset.sex).plot(kind=\"bar\").set_xticklabels([\"Heart Disease\",\"Without Heart Disease\"],rotation=0)\n",
    "plt.legend([\"Female\",\"Male\"])"
   ]
  },
  {
   "cell_type": "code",
   "execution_count": null,
   "metadata": {},
   "outputs": [],
   "source": [
    "# From The Plot Below We can deduce that most patient suffer from Non-anginal Chest pain  \n",
    "# We also found out that Typical Angina is most common but it does result in chest pain always, majority Typical Angina Pain resulted in No Heart Disease\n",
    "# Where as Most Heart disease is causes by Non-Anginal Pain and ATypical Angina\n",
    "pd.crosstab(dataset.cp, dataset.target).plot(kind=\"bar\").set_xticklabels([\"Typical Angina\",\"ATypical Angina\",\"Non-anginal pain\",\"Asymptomatic\"],rotation=0)\n",
    "plt.legend([\"No Heart Disease\", \"Heart Disease\"])"
   ]
  },
  {
   "cell_type": "code",
   "execution_count": null,
   "metadata": {},
   "outputs": [],
   "source": [
    "#From The Figure We also find that All Chest Pain Symptoms is more common in males than female\n",
    "\n",
    "pd.crosstab(dataset.cp, dataset.sex,).plot(kind=\"bar\").set_xticklabels([\"Typical Angina\",\"ATypical Angina\",\"Non-anginal pain\",\"Asymptomatic\"],rotation=0)\n",
    "plt.legend([\"Female\",\"Male\"])"
   ]
  },
  {
   "cell_type": "code",
   "execution_count": null,
   "metadata": {},
   "outputs": [],
   "source": [
    "dataset.age.plot.hist()"
   ]
  },
  {
   "cell_type": "code",
   "execution_count": null,
   "metadata": {},
   "outputs": [],
   "source": [
    "#  correlation matrix \n",
    "corr_matrix = dataset.corr()\n",
    "fig, ax = plt.subplots(figsize=(15, 5))\n",
    "ax = sns.heatmap(corr_matrix,\n",
    "                 annot=True,\n",
    "                 linewidths=0.5,\n",
    "                 fmt=\".2f\",\n",
    "                 cmap=\"YlGnBu\");\n",
    "bottom, top = ax.get_ylim()\n",
    "ax.set_ylim(bottom + 0.5, top - 0.5)"
   ]
  },
  {
   "cell_type": "markdown",
   "metadata": {},
   "source": [
    "Starting Machine Learning"
   ]
  },
  {
   "cell_type": "code",
   "execution_count": 411,
   "metadata": {},
   "outputs": [],
   "source": [
    "model = {\"Logistic Regression\" : LogisticRegression(),\n",
    "         \"K Nearest Neighbour\" : KNeighborsClassifier(),\n",
    "         }\n",
    "x = dataset.drop(columns='target', axis=1)\n",
    "y = dataset.target\n",
    "x, y = shuffle(x, y, random_state=42)\n",
    "x_train,x_test,y_train,y_test = train_test_split(x,y, test_size=0.2, random_state=42, stratify=y)\n"
   ]
  },
  {
   "cell_type": "code",
   "execution_count": 412,
   "metadata": {},
   "outputs": [],
   "source": [
    "def fit_and_score_model(model,x_train,x_test,y_train,y_test):\n",
    "    # Fit the model\n",
    "    model_score = {}\n",
    "\n",
    "    for name, model in model.items() : \n",
    "        model.fit(x_train,y_train)\n",
    "        model_score[name] = model.score(x_test,y_test)\n",
    "    return model_score"
   ]
  },
  {
   "cell_type": "code",
   "execution_count": null,
   "metadata": {},
   "outputs": [],
   "source": [
    "model_score=fit_and_score_model(model,x_train,x_test,y_train,y_test)"
   ]
  },
  {
   "cell_type": "code",
   "execution_count": 414,
   "metadata": {},
   "outputs": [],
   "source": [
    "def fit_and_score_train_model(model,x_train,x_test,y_train,y_test):\n",
    "    # Fit the model\n",
    "    train_model_score = {}\n",
    "\n",
    "    for name, model in model.items() : \n",
    "        model.fit(x_train,y_train)\n",
    "        train_model_score[name] = model.score(x_train,y_train)\n",
    "    return train_model_score"
   ]
  },
  {
   "cell_type": "code",
   "execution_count": null,
   "metadata": {},
   "outputs": [],
   "source": [
    "fit_and_score_train_model(model,x_train,x_test,y_train,y_test)\n"
   ]
  },
  {
   "cell_type": "code",
   "execution_count": null,
   "metadata": {},
   "outputs": [],
   "source": [
    "model_compare = pd.DataFrame(model_score, index=[\"accuracy\"])\n",
    "model_compare.T.plot.bar();"
   ]
  },
  {
   "cell_type": "markdown",
   "metadata": {},
   "source": [
    "#### Hyperparamter Tuning for KNN"
   ]
  },
  {
   "cell_type": "code",
   "execution_count": null,
   "metadata": {},
   "outputs": [],
   "source": [
    "train_score = []\n",
    "test_score = []\n",
    "neighbors = range(1, 100)\n",
    "knn = KNeighborsClassifier()\n",
    "\n",
    "\n",
    "for neighbor in neighbors:\n",
    "    knn.set_params(n_neighbors=neighbor)\n",
    "    knn.fit(x_train, y_train)\n",
    "    train_score.append(knn.score(x_train,y_train))\n",
    "    test_score.append(knn.score(x_test,y_test))\n",
    "\n",
    "plt.plot(neighbors, test_score, label=\"Test Accuracy\")\n",
    "plt.plot(neighbors, train_score, label=\"Train Accuracy\")\n",
    "plt.xlabel(\"Number Of Neighbors\")\n",
    "plt.ylabel(\"Accuracy\")\n",
    "plt.title(\"KNN: Varying number of Neighbors\")\n",
    "plt.legend()\n",
    "plt.xlim(0, 100)\n",
    "plt.ylim(0.65, 1.0)\n",
    "plt.grid()\n",
    "plt.show()\n"
   ]
  },
  {
   "cell_type": "markdown",
   "metadata": {},
   "source": [
    "\n",
    "#### Hyperparamter Tuning for Logistic Regression and Random Forest using Randomized Search CV"
   ]
  },
  {
   "cell_type": "code",
   "execution_count": 418,
   "metadata": {},
   "outputs": [],
   "source": [
    "# Hyperparameter Tuning for Logistic Regression \n",
    "#Initial Score : 0.8682926829268293\n",
    "\n",
    "log_reg_grid = {'solver': ['liblinear', 'lbfgs', 'newton-cg'], \"max_iter\":[100,200,300],'penalty': ['l1', 'l2', 'elasticnet'],         # Try different regularization penalties\n",
    "    'C': [0.01, 0.1, 1, 10, 100]}\n"
   ]
  },
  {
   "cell_type": "code",
   "execution_count": null,
   "metadata": {},
   "outputs": [],
   "source": [
    "rs_log_reg = RandomizedSearchCV(LogisticRegression(),param_distributions=log_reg_grid,cv=5,n_iter=20,verbose=True)\n",
    "rs_log_reg.fit(x_train,y_train)"
   ]
  },
  {
   "cell_type": "code",
   "execution_count": null,
   "metadata": {},
   "outputs": [],
   "source": [
    "rs_log_reg.best_params_"
   ]
  },
  {
   "cell_type": "code",
   "execution_count": null,
   "metadata": {},
   "outputs": [],
   "source": [
    "rs_log_reg.score(x_test,y_test)"
   ]
  },
  {
   "cell_type": "code",
   "execution_count": 422,
   "metadata": {},
   "outputs": [],
   "source": [
    "gs_log_reg = GridSearchCV(\n",
    "    LogisticRegression(),param_grid=log_reg_grid,cv=5, verbose=True\n",
    ")"
   ]
  },
  {
   "cell_type": "code",
   "execution_count": null,
   "metadata": {},
   "outputs": [],
   "source": [
    "gs_log_reg.fit(x_train,y_train)\n"
   ]
  },
  {
   "cell_type": "code",
   "execution_count": null,
   "metadata": {},
   "outputs": [],
   "source": [
    "gs_log_reg.score(x_test,y_test)"
   ]
  },
  {
   "cell_type": "code",
   "execution_count": null,
   "metadata": {},
   "outputs": [],
   "source": [
    "RocCurveDisplay.from_estimator(gs_log_reg,x_test,y_test)"
   ]
  },
  {
   "cell_type": "code",
   "execution_count": 426,
   "metadata": {},
   "outputs": [],
   "source": [
    "y_preds = gs_log_reg.predict(x_test)"
   ]
  },
  {
   "cell_type": "code",
   "execution_count": null,
   "metadata": {},
   "outputs": [],
   "source": [
    "confusion_matrix(y_test,y_preds)"
   ]
  },
  {
   "cell_type": "code",
   "execution_count": null,
   "metadata": {},
   "outputs": [],
   "source": [
    "print(classification_report(y_preds, y_test))"
   ]
  },
  {
   "cell_type": "code",
   "execution_count": null,
   "metadata": {},
   "outputs": [],
   "source": [
    "y.value_counts()"
   ]
  },
  {
   "cell_type": "code",
   "execution_count": 320,
   "metadata": {},
   "outputs": [],
   "source": []
  }
 ],
 "metadata": {
  "kernelspec": {
   "display_name": "Python 3",
   "language": "python",
   "name": "python3"
  },
  "language_info": {
   "codemirror_mode": {
    "name": "ipython",
    "version": 3
   },
   "file_extension": ".py",
   "mimetype": "text/x-python",
   "name": "python",
   "nbconvert_exporter": "python",
   "pygments_lexer": "ipython3",
   "version": "3.12.6"
  }
 },
 "nbformat": 4,
 "nbformat_minor": 2
}
